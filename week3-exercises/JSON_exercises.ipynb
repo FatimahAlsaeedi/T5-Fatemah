{
  "cells": [
    {
      "cell_type": "markdown",
      "id": "6b5c524a",
      "metadata": {
        "id": "6b5c524a"
      },
      "source": [
        "# JSON Practice Exercises\n",
        "\n",
        "These exercises will help you practice working with JSON in Python."
      ]
    },
    {
      "cell_type": "markdown",
      "id": "530fc65c",
      "metadata": {
        "id": "530fc65c"
      },
      "source": [
        "## Exercise 1: Converting Python Objects to JSON\n",
        "\n",
        "Create a Python dictionary representing a book with the following attributes:\n",
        "- title\n",
        "- author\n",
        "- year\n",
        "\n",
        "Convert this dictionary to a JSON string using `json.dumps()` and print the result."
      ]
    },
    {
      "cell_type": "code",
      "execution_count": 1,
      "id": "f74a5ed5",
      "metadata": {
        "id": "f74a5ed5"
      },
      "outputs": [],
      "source": [
        "# Your code here\n",
        "import json"
      ]
    },
    {
      "cell_type": "code",
      "source": [
        "book={'title':'python', 'author': \"T\", 'year':2002}\n",
        "json_book=json.dumps(book)\n",
        "print(\"the new json dictioary: \", json_book)\n"
      ],
      "metadata": {
        "id": "y2w-oZW3pvxZ",
        "outputId": "8e199f2b-6fed-4186-8031-504bf5ffa1cc",
        "colab": {
          "base_uri": "https://localhost:8080/"
        }
      },
      "id": "y2w-oZW3pvxZ",
      "execution_count": 2,
      "outputs": [
        {
          "output_type": "stream",
          "name": "stdout",
          "text": [
            "the new json dictioary:  {\"title\": \"python\", \"author\": \"T\", \"year\": 2002}\n"
          ]
        }
      ]
    },
    {
      "cell_type": "markdown",
      "id": "84799d52",
      "metadata": {
        "id": "84799d52"
      },
      "source": [
        "## Exercise 2: Converting JSON to Python Objects\n",
        "\n",
        "Given the following JSON string:\n",
        "```json\n",
        "'{\"name\": \"Alice\", \"age\": 25, \"city\": \"Wonderland\"}'\n",
        "```\n",
        "Convert this JSON string to a Python dictionary using `json.loads()` and print the result."
      ]
    },
    {
      "cell_type": "code",
      "execution_count": 3,
      "id": "a2ba7ced",
      "metadata": {
        "id": "a2ba7ced",
        "outputId": "5bca73b9-ac2e-4a66-cef2-ca74c88fd655",
        "colab": {
          "base_uri": "https://localhost:8080/"
        }
      },
      "outputs": [
        {
          "output_type": "stream",
          "name": "stdout",
          "text": [
            "{'name': 'Alice', 'age': 25, 'city': 'Wonderland'}\n"
          ]
        }
      ],
      "source": [
        "# Your code here\n",
        "json_string='{\"name\": \"Alice\", \"age\": 25, \"city\": \"Wonderland\"}'\n",
        "py_dict=json.loads(json_string)\n",
        "print(py_dict)"
      ]
    },
    {
      "cell_type": "markdown",
      "id": "e291d203",
      "metadata": {
        "id": "e291d203"
      },
      "source": [
        "## Exercise 3: Reading JSON from a File\n",
        "\n",
        "Write a Python script to read the following JSON data from a file named `data.json` and print it:\n",
        "```json\n",
        "{\n",
        "    \"name\": \"Bob\",\n",
        "    \"age\": 22,\n",
        "    \"city\": \"Paris\"\n",
        "}\n",
        "```"
      ]
    },
    {
      "cell_type": "code",
      "execution_count": 5,
      "id": "a5655d4b",
      "metadata": {
        "id": "a5655d4b",
        "outputId": "529dc3ff-d064-42f0-8a68-89271cdd7387",
        "colab": {
          "base_uri": "https://localhost:8080/",
          "height": 211
        }
      },
      "outputs": [
        {
          "output_type": "error",
          "ename": "FileNotFoundError",
          "evalue": "[Errno 2] No such file or directory: 'info_json'",
          "traceback": [
            "\u001b[0;31m---------------------------------------------------------------------------\u001b[0m",
            "\u001b[0;31mFileNotFoundError\u001b[0m                         Traceback (most recent call last)",
            "\u001b[0;32m<ipython-input-5-5c5d26b64a9a>\u001b[0m in \u001b[0;36m<cell line: 3>\u001b[0;34m()\u001b[0m\n\u001b[1;32m      1\u001b[0m \u001b[0;31m# Your code here\u001b[0m\u001b[0;34m\u001b[0m\u001b[0;34m\u001b[0m\u001b[0m\n\u001b[1;32m      2\u001b[0m \u001b[0minfo_json\u001b[0m\u001b[0;34m=\u001b[0m \u001b[0;34m'{\"name\": \"Bob\", \"age\": 22, \"city\": \"Paris\"}'\u001b[0m\u001b[0;34m\u001b[0m\u001b[0;34m\u001b[0m\u001b[0m\n\u001b[0;32m----> 3\u001b[0;31m \u001b[0;32mwith\u001b[0m \u001b[0mopen\u001b[0m\u001b[0;34m(\u001b[0m\u001b[0;34m'info_json'\u001b[0m\u001b[0;34m,\u001b[0m \u001b[0;34m'r'\u001b[0m\u001b[0;34m)\u001b[0m \u001b[0;32mas\u001b[0m \u001b[0mfile\u001b[0m\u001b[0;34m:\u001b[0m\u001b[0;34m\u001b[0m\u001b[0;34m\u001b[0m\u001b[0m\n\u001b[0m\u001b[1;32m      4\u001b[0m       \u001b[0minfo_dict\u001b[0m\u001b[0;34m=\u001b[0m\u001b[0mjson\u001b[0m\u001b[0;34m.\u001b[0m\u001b[0mload\u001b[0m\u001b[0;34m(\u001b[0m\u001b[0mfile\u001b[0m\u001b[0;34m)\u001b[0m\u001b[0;34m\u001b[0m\u001b[0;34m\u001b[0m\u001b[0m\n\u001b[1;32m      5\u001b[0m       \u001b[0mprint\u001b[0m\u001b[0;34m(\u001b[0m\u001b[0minfo_dict\u001b[0m\u001b[0;34m)\u001b[0m\u001b[0;34m\u001b[0m\u001b[0;34m\u001b[0m\u001b[0m\n",
            "\u001b[0;31mFileNotFoundError\u001b[0m: [Errno 2] No such file or directory: 'info_json'"
          ]
        }
      ],
      "source": [
        "# Your code here\n",
        "#Just as an assumption\n",
        "info_json= '{\"name\": \"Bob\", \"age\": 22, \"city\": \"Paris\"}'\n",
        "with open('info_json', 'r') as file:\n",
        "      info_dict=json.load(file)\n",
        "      print(info_dict)\n",
        ""
      ]
    },
    {
      "cell_type": "markdown",
      "id": "7b83b8f8",
      "metadata": {
        "id": "7b83b8f8"
      },
      "source": [
        "## Exercise 4: Writing JSON to a File\n",
        "\n",
        "Create a Python dictionary representing a student with the following attributes:\n",
        "- name\n",
        "- grade\n",
        "- subjects (a list of subjects)\n",
        "\n",
        "Write this dictionary to a JSON file named `student.json` using `json.dump()`."
      ]
    },
    {
      "cell_type": "code",
      "execution_count": 6,
      "id": "96c1b087",
      "metadata": {
        "id": "96c1b087"
      },
      "outputs": [],
      "source": [
        "# Your code here\n",
        "student_dict={\n",
        "    \"name\":\"fatima\",\n",
        "    \"grade\":9,\n",
        "    \"subjects\":['Math','Science', \"English\"]\n",
        "}\n",
        "with open('student_json','w')as file:\n",
        "        json.dump(student_dict, file)"
      ]
    },
    {
      "cell_type": "markdown",
      "id": "7d9b3849",
      "metadata": {
        "id": "7d9b3849"
      },
      "source": [
        "## Exercise 5: Pretty Printing JSON\n",
        "\n",
        "Given a Python dictionary representing a movie with the following attributes:\n",
        "- title\n",
        "- director\n",
        "- year\n",
        "- genre\n",
        "\n",
        "Convert this dictionary to a JSON string with indentation using `json.dumps()` and print the result."
      ]
    },
    {
      "cell_type": "code",
      "execution_count": 9,
      "id": "cfe017d4",
      "metadata": {
        "id": "cfe017d4",
        "outputId": "358a04e3-25d0-4e7e-9b4d-6e4af4a045cf",
        "colab": {
          "base_uri": "https://localhost:8080/"
        }
      },
      "outputs": [
        {
          "output_type": "stream",
          "name": "stdout",
          "text": [
            "{\n",
            "       \"title\": \"Titanic\",\n",
            "       \"director\": \"James Cameron\",\n",
            "       \"year\": 1997,\n",
            "       \"genre\": \"Drama\"\n",
            "}\n"
          ]
        }
      ],
      "source": [
        "# Your code here\n",
        "movie = {\n",
        "    \"title\": \"Titanic\",\n",
        "    \"director\": \"James Cameron\",\n",
        "    \"year\": 1997,\n",
        "    \"genre\": \"Drama\"\n",
        "}\n",
        "movie_json=json.dumps(movie, indent=7)\n",
        "print(movie_json)"
      ]
    },
    {
      "cell_type": "code",
      "source": [],
      "metadata": {
        "id": "gyX6a1nyBKqb"
      },
      "id": "gyX6a1nyBKqb",
      "execution_count": null,
      "outputs": []
    }
  ],
  "metadata": {
    "colab": {
      "provenance": []
    },
    "language_info": {
      "name": "python"
    },
    "kernelspec": {
      "name": "python3",
      "display_name": "Python 3"
    }
  },
  "nbformat": 4,
  "nbformat_minor": 5
}