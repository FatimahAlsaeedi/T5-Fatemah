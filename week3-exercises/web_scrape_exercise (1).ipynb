{
  "cells": [
    {
      "cell_type": "markdown",
      "id": "274661b6",
      "metadata": {
        "id": "274661b6"
      },
      "source": [
        "# Web Scraping Tutorial\n",
        "\n",
        "This notebook provides a step-by-step guide to scrape data from a website. Web scraping is a technique used to extract information from websites by transforming the data on web pages into a structured format. This is particularly useful for data analysis, machine learning, and other data-driven tasks.\n",
        "\n",
        "In this tutorial, we will walk through the process of scraping product information from a sample e-commerce site. By following these steps, you will learn how to:\n",
        "\n",
        "1. Send HTTP requests to retrieve web pages.\n",
        "2. Parse HTML content using BeautifulSoup.\n",
        "3. Identify and extract relevant data elements from the parsed HTML.\n",
        "4. Store the extracted data in a structured format using pandas.\n",
        "5. Save the data to a CSV file.\n",
        "6. Optionally, save the data to a database such as MongoDB.\n",
        "\n",
        "The website we will be scraping is [ScrapeMe](https://scrapeme.live/shop/). This site is designed for practice purposes and contains a variety of products with details such as names and prices, which makes it an ideal candidate for learning web scraping techniques.\n",
        "\n",
        "Before you begin, please visit the site to understand its structure. This will help you identify the elements you need to scrape.\n",
        "\n",
        "Let's get started!"
      ]
    },
    {
      "cell_type": "markdown",
      "id": "18a87e75",
      "metadata": {
        "id": "18a87e75"
      },
      "source": [
        "## Import libraries here"
      ]
    },
    {
      "cell_type": "code",
      "source": [
        "import pandas as pd"
      ],
      "metadata": {
        "id": "Ssx7y0L0VNm0"
      },
      "id": "Ssx7y0L0VNm0",
      "execution_count": 9,
      "outputs": []
    },
    {
      "cell_type": "code",
      "execution_count": 2,
      "id": "5bdedab8",
      "metadata": {
        "id": "5bdedab8",
        "outputId": "fc66009e-3ade-461c-e8ac-e7324c997b13",
        "colab": {
          "base_uri": "https://localhost:8080/"
        }
      },
      "outputs": [
        {
          "output_type": "stream",
          "name": "stdout",
          "text": [
            "Requirement already satisfied: requests in /usr/local/lib/python3.10/dist-packages (2.32.3)\n",
            "Requirement already satisfied: charset-normalizer<4,>=2 in /usr/local/lib/python3.10/dist-packages (from requests) (3.3.2)\n",
            "Requirement already satisfied: idna<4,>=2.5 in /usr/local/lib/python3.10/dist-packages (from requests) (3.7)\n",
            "Requirement already satisfied: urllib3<3,>=1.21.1 in /usr/local/lib/python3.10/dist-packages (from requests) (2.0.7)\n",
            "Requirement already satisfied: certifi>=2017.4.17 in /usr/local/lib/python3.10/dist-packages (from requests) (2024.7.4)\n",
            "Requirement already satisfied: beautifulsoup4 in /usr/local/lib/python3.10/dist-packages (4.12.3)\n",
            "Requirement already satisfied: soupsieve>1.2 in /usr/local/lib/python3.10/dist-packages (from beautifulsoup4) (2.5)\n"
          ]
        }
      ],
      "source": [
        "!pip install requests\n",
        "!pip install beautifulsoup4"
      ]
    },
    {
      "cell_type": "markdown",
      "id": "c7f9f606",
      "metadata": {
        "id": "c7f9f606"
      },
      "source": [
        "## Step 1: Send a request to the website"
      ]
    },
    {
      "cell_type": "code",
      "execution_count": 4,
      "id": "8f4e3051",
      "metadata": {
        "id": "8f4e3051",
        "outputId": "1780f931-108c-48e2-9136-ff1a84db447d",
        "colab": {
          "base_uri": "https://localhost:8080/"
        }
      },
      "outputs": [
        {
          "output_type": "stream",
          "name": "stdout",
          "text": [
            "200\n",
            "\n",
            "<!doctype html>\n",
            "<html lang=\"en-GB\">\n",
            "<head>\n",
            "<meta charset=\"UTF-8\">\n",
            "<meta name=\"viewport\" content=\"width=device-width, initial-scale=1, maximum-scale=2.0\">\n",
            "<link rel=\"profile\" href=\"http://gmpg.org/xfn/11\">\n",
            "<link rel=\"pingback\" href=\"https://scrapeme.live/xmlrpc.php\">\n",
            "\n",
            "<title>Products &#8211; ScrapeMe</title>\n",
            "<link rel='dns-prefetch' href='//fonts.googleapis.com' />\n",
            "<link rel='dns-prefetch' href='//s.w.org' />\n",
            "<link rel=\"alternate\" type=\"application/rss+xml\" title=\"ScrapeMe &raquo; Feed\" href=\"https://scrapeme.live/feed/\" />\n",
            "<link rel=\"alternate\" type=\"application/rss+xml\" title=\"ScrapeMe &raquo; Comments Feed\" href=\"https://scrapeme.live/comments/feed/\" />\n",
            "<link rel=\"alternate\" type=\"applica\n"
          ]
        }
      ],
      "source": [
        "import requests\n",
        "url=\"https://scrapeme.live/shop/\"\n",
        "response = requests.get(url)\n",
        "print(response.status_code)\n",
        "print(response.text[:700])"
      ]
    },
    {
      "cell_type": "markdown",
      "id": "71d1d25f",
      "metadata": {
        "id": "71d1d25f"
      },
      "source": [
        "## Step 2: Parse the HTML content of the page"
      ]
    },
    {
      "cell_type": "code",
      "execution_count": 7,
      "id": "e2630791",
      "metadata": {
        "id": "e2630791",
        "outputId": "2700a952-d077-4429-e0cf-a5e718fa44fa",
        "colab": {
          "base_uri": "https://localhost:8080/"
        }
      },
      "outputs": [
        {
          "output_type": "stream",
          "name": "stdout",
          "text": [
            "<title>Products – ScrapeMe</title>\n",
            "Just another WordPress site\n",
            "\n",
            "\tShowing 1–16 of 755 results\n",
            "\n",
            "\tShowing 1–16 of 755 results\n"
          ]
        }
      ],
      "source": [
        "from bs4 import BeautifulSoup\n",
        "\n",
        "soup = BeautifulSoup(response.text, 'html.parser')\n",
        "print(soup.title)\n",
        "for p in soup.find_all('p'):\n",
        "    print(p.text)"
      ]
    },
    {
      "cell_type": "markdown",
      "id": "136215c4",
      "metadata": {
        "id": "136215c4"
      },
      "source": [
        "## Step 3: Inspect the website and identify the elements to scrape\n",
        "Inspect the website and identify the elements (e.g., product names, prices, etc.)."
      ]
    },
    {
      "cell_type": "code",
      "execution_count": null,
      "id": "162008b8",
      "metadata": {
        "id": "162008b8"
      },
      "outputs": [],
      "source": [
        "#Prices= <span class=\"woocommerce-Price-amount amount\"><span class=\"woocommerce-Price-currencySymbol\">£</span>63.00</span>\n",
        "#product_name=<h2 class=\"woocommerce-loop-product__title\">Bulbasaur</h2>"
      ]
    },
    {
      "cell_type": "markdown",
      "id": "64e51da7",
      "metadata": {
        "id": "64e51da7"
      },
      "source": [
        "## Step 4: Extract the desired data"
      ]
    },
    {
      "cell_type": "code",
      "execution_count": 8,
      "id": "06b9477d",
      "metadata": {
        "id": "06b9477d",
        "outputId": "deecffad-c2ba-43fc-a4bd-a8c26b504522",
        "colab": {
          "base_uri": "https://localhost:8080/"
        }
      },
      "outputs": [
        {
          "output_type": "stream",
          "name": "stdout",
          "text": [
            "Product: Bulbasaur, Price: £0.00\n",
            "Product: Ivysaur, Price: £63.00\n",
            "Product: Venusaur, Price: £87.00\n",
            "Product: Charmander, Price: £105.00\n",
            "Product: Charmeleon, Price: £48.00\n",
            "Product: Charizard, Price: £165.00\n",
            "Product: Squirtle, Price: £156.00\n",
            "Product: Wartortle, Price: £130.00\n",
            "Product: Blastoise, Price: £123.00\n",
            "Product: Caterpie, Price: £76.00\n",
            "Product: Metapod, Price: £73.00\n",
            "Product: Butterfree, Price: £148.00\n",
            "Product: Weedle, Price: £162.00\n",
            "Product: Kakuna, Price: £25.00\n",
            "Product: Beedrill, Price: £148.00\n",
            "Product: Pidgey, Price: £168.00\n"
          ]
        }
      ],
      "source": [
        "# Extract product names\n",
        "product_names = [element.get_text() for element in soup.find_all('h2', class_='woocommerce-loop-product__title')]\n",
        "\n",
        "# Extract prices\n",
        "prices = [element.get_text() for element in soup.find_all('span', class_='woocommerce-Price-amount')]\n",
        "\n",
        "# Print the extracted data\n",
        "for name, price in zip(product_names, prices):\n",
        "    print(f\"Product: {name}, Price: {price}\")"
      ]
    },
    {
      "cell_type": "markdown",
      "id": "ebe02982",
      "metadata": {
        "id": "ebe02982"
      },
      "source": [
        "## Step 5: Create a DataFrame to store the extracted data"
      ]
    },
    {
      "cell_type": "code",
      "source": [
        "min_length = min(len(product_names), len(prices))\n",
        "product_names = product_names[:min_length]\n",
        "prices = prices[:min_length]"
      ],
      "metadata": {
        "id": "DDXukTEoWJXF"
      },
      "id": "DDXukTEoWJXF",
      "execution_count": 12,
      "outputs": []
    },
    {
      "cell_type": "code",
      "execution_count": 13,
      "id": "df0dfe22",
      "metadata": {
        "id": "df0dfe22"
      },
      "outputs": [],
      "source": [
        "data = {\n",
        "    'Product Name': product_names,\n",
        "    'Price': prices\n",
        "}\n",
        "\n",
        "df = pd.DataFrame(data)\n"
      ]
    },
    {
      "cell_type": "markdown",
      "id": "a7fb0de6",
      "metadata": {
        "id": "a7fb0de6"
      },
      "source": [
        "## Step 6: Save the data to a CSV file"
      ]
    },
    {
      "cell_type": "code",
      "execution_count": 14,
      "id": "24e44e64",
      "metadata": {
        "id": "24e44e64"
      },
      "outputs": [],
      "source": [
        "df.to_csv('products.csv', index=False)"
      ]
    },
    {
      "cell_type": "markdown",
      "id": "ee480802",
      "metadata": {
        "id": "ee480802"
      },
      "source": [
        "## Step 7: Print the DataFrame to verify the extracted data"
      ]
    },
    {
      "cell_type": "code",
      "execution_count": 15,
      "id": "bee5d07c",
      "metadata": {
        "id": "bee5d07c",
        "outputId": "b72fad8b-5365-4030-911a-2e887a50c4c1",
        "colab": {
          "base_uri": "https://localhost:8080/"
        }
      },
      "outputs": [
        {
          "output_type": "stream",
          "name": "stdout",
          "text": [
            "   Product Name    Price\n",
            "0     Bulbasaur    £0.00\n",
            "1       Ivysaur   £63.00\n",
            "2      Venusaur   £87.00\n",
            "3    Charmander  £105.00\n",
            "4    Charmeleon   £48.00\n",
            "5     Charizard  £165.00\n",
            "6      Squirtle  £156.00\n",
            "7     Wartortle  £130.00\n",
            "8     Blastoise  £123.00\n",
            "9      Caterpie   £76.00\n",
            "10      Metapod   £73.00\n",
            "11   Butterfree  £148.00\n",
            "12       Weedle  £162.00\n",
            "13       Kakuna   £25.00\n",
            "14     Beedrill  £148.00\n",
            "15       Pidgey  £168.00\n"
          ]
        }
      ],
      "source": [
        "print(df)"
      ]
    },
    {
      "cell_type": "markdown",
      "id": "ea5dc916",
      "metadata": {
        "id": "ea5dc916"
      },
      "source": [
        "## Step 8: Save the data to a database of your choice. If you are using MongoDB, include the code here."
      ]
    },
    {
      "cell_type": "code",
      "execution_count": null,
      "id": "ec9b8a29",
      "metadata": {
        "id": "ec9b8a29"
      },
      "outputs": [],
      "source": []
    }
  ],
  "metadata": {
    "language_info": {
      "name": "python"
    },
    "colab": {
      "provenance": []
    },
    "kernelspec": {
      "name": "python3",
      "display_name": "Python 3"
    }
  },
  "nbformat": 4,
  "nbformat_minor": 5
}